{
 "cells": [
  {
   "cell_type": "markdown",
   "id": "3383a535-df75-44c4-bdb2-ccc3d723e350",
   "metadata": {},
   "source": [
    "# Data Science Tools and Ecosystem"
   ]
  },
  {
   "cell_type": "markdown",
   "id": "bb20469b-e4e6-4aed-9f8a-d0de154282e9",
   "metadata": {
    "jp-MarkdownHeadingCollapsed": true
   },
   "source": [
    "In this notebook, Data Science Tools and Ecosystem are summarized."
   ]
  },
  {
   "cell_type": "markdown",
   "id": "9d1c56d8-af6f-4cea-a58a-044334307d1b",
   "metadata": {},
   "source": [
    "<b> Objetives: </b>\n",
    "- Popular languages that Data Scientists\n",
    "- Commonly used libraries used by Data Scientists\n",
    "- Data Science Tools\n",
    "- Evaluating arithmetic expressions"
   ]
  },
  {
   "cell_type": "markdown",
   "id": "0769324c-b963-4ea2-9ff9-cb4d0c80de0c",
   "metadata": {},
   "source": [
    "Some of the popular languages that Data Scientists use are:\n",
    "1. R\n",
    "2. Python\n",
    "3. Panda"
   ]
  },
  {
   "cell_type": "markdown",
   "id": "50252e2f-e83f-45c7-876a-2489c6f32d22",
   "metadata": {},
   "source": [
    "Some of the commonly used libraries used by Data Scientists include:\n",
    "- Pandas\n",
    "- NumPy\n",
    "- Keras"
   ]
  },
  {
   "cell_type": "markdown",
   "id": "9ae53aa0-f4ca-4f92-bd0d-2bbfbabbdfed",
   "metadata": {},
   "source": [
    "|Data Science Tools|\n",
    "|------------------|\n",
    "| Jupyter Notebooks | \n",
    "| Apache Spark | \n",
    "| NumPy|"
   ]
  },
  {
   "cell_type": "markdown",
   "id": "48d11e08-0dab-445c-b91e-bdcd9ec46dd1",
   "metadata": {},
   "source": [
    "### Below are a few examples of evaluating arithmetic expressions in Python"
   ]
  },
  {
   "cell_type": "code",
   "execution_count": 4,
   "id": "e9ef111c-f6e8-4b0e-9108-08bd8a34e094",
   "metadata": {},
   "outputs": [
    {
     "data": {
      "text/plain": [
       "17"
      ]
     },
     "execution_count": 4,
     "metadata": {},
     "output_type": "execute_result"
    }
   ],
   "source": [
    " # This a simple arithmetic expression to mutiply then add integers\n",
    "(3*4)+5"
   ]
  },
  {
   "cell_type": "code",
   "execution_count": 7,
   "id": "8016eae1-7d64-4f04-a669-3f4519815e25",
   "metadata": {},
   "outputs": [
    {
     "data": {
      "text/plain": [
       "3.3333333333333335"
      ]
     },
     "execution_count": 7,
     "metadata": {},
     "output_type": "execute_result"
    }
   ],
   "source": [
    "# This will convert 200 minutes to hours by diving by 60\n",
    "200/60"
   ]
  },
  {
   "cell_type": "markdown",
   "id": "5752b381-d7a0-4324-92e5-d65cfc1d8730",
   "metadata": {},
   "source": [
    "## Author \n",
    "Edson R."
   ]
  },
  {
   "cell_type": "code",
   "execution_count": null,
   "id": "4c73abe3-221d-46f5-bda5-4fdcbfa41ce6",
   "metadata": {},
   "outputs": [],
   "source": []
  }
 ],
 "metadata": {
  "kernelspec": {
   "display_name": "Python 3 (ipykernel)",
   "language": "python",
   "name": "python3"
  },
  "language_info": {
   "codemirror_mode": {
    "name": "ipython",
    "version": 3
   },
   "file_extension": ".py",
   "mimetype": "text/x-python",
   "name": "python",
   "nbconvert_exporter": "python",
   "pygments_lexer": "ipython3",
   "version": "3.12.9"
  }
 },
 "nbformat": 4,
 "nbformat_minor": 5
}
